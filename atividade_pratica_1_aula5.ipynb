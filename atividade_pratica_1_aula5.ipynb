{
 "cells": [
  {
   "attachments": {},
   "cell_type": "markdown",
   "metadata": {},
   "source": [
    "# Atividade Prática 1 - Dataset Notas\n",
    "\n",
    "Vamos obter informações sobre o rendimento de alunos de um curso em algumas disciplinas ao longo dos anos.\n",
    "\n",
    "O primeiro arquivo contido no Dataset Notas, historico-alg1_SIGA_ANONIMIZADO.csv, refere-se ao aproveitamento de estudantes na disciplina ALGORITMOS 1 entre os anos de 2011 e 2022.\n",
    "\n",
    "A primeira coluna (\"matricula\") é composta por números inteiros, onde cada número representa um indivíduo. Assim, repetições nessa coluna indicam que o estudante fez mais de uma vez a mesma matéria.\n",
    "\n",
    "Atenção: R-nota indica REPROVAÇÃO POR NOTA e R-freq REPROVAÇÃO POR FALTA. Se houver outro \"status\" para representar reprovação, este dever ser trocado para o rótulo adequado (R-nota ou R-freq). Frequências < 75 causam reprovação por falta; Médias abaixo de 50 causam reprovação por nota.\n",
    "\n",
    "Analise o dataset do referido arquivo para responder as seguintes perguntas:\n",
    "\n",
    "1. Qual é a média de nota dos aprovados (no período total e por ano)?\n",
    "\n",
    "2. Qual é a média de nota dos reprovados por nota (período total e ano)?\n",
    "\n",
    "3. Qual é a frequência dos reprovados por nota (período total e por ano)?\n",
    "\n",
    "4. Qual a porcentagem de evasões (total e anual)?\n",
    "\n",
    "5. Como os anos de pandemia impactaram no rendimento dos estudantes em relação aos anos anteriores, considerando o rendimento dos aprovados, a taxa de cancelamento e as reprovações? Considere como anos de pandemia os anos de 2020 e 2021.\n",
    "\n",
    "6. Compare a volta às aulas híbrida (2022 período 1) com os anos de pandemia e os anos anteriores.\n",
    "\n",
    "7. Compare a volta às aulas presencial (2022 período 2) com a volta híbrida do item anterior."
   ]
  },
  {
   "cell_type": "code",
   "execution_count": 607,
   "metadata": {},
   "outputs": [],
   "source": [
    "import pandas as pd\n",
    "import matplotlib.pyplot as plt"
   ]
  },
  {
   "cell_type": "code",
   "execution_count": 608,
   "metadata": {},
   "outputs": [],
   "source": [
    "SIGA = pd.read_csv('historico-alg1_SIGA_ANONIMIZADO.csv')"
   ]
  },
  {
   "cell_type": "code",
   "execution_count": 609,
   "metadata": {},
   "outputs": [
    {
     "data": {
      "text/html": [
       "<div>\n",
       "<style scoped>\n",
       "    .dataframe tbody tr th:only-of-type {\n",
       "        vertical-align: middle;\n",
       "    }\n",
       "\n",
       "    .dataframe tbody tr th {\n",
       "        vertical-align: top;\n",
       "    }\n",
       "\n",
       "    .dataframe thead th {\n",
       "        text-align: right;\n",
       "    }\n",
       "</style>\n",
       "<table border=\"1\" class=\"dataframe\">\n",
       "  <thead>\n",
       "    <tr style=\"text-align: right;\">\n",
       "      <th></th>\n",
       "      <th>matricula</th>\n",
       "      <th>codigo</th>\n",
       "      <th>disciplina</th>\n",
       "      <th>periodo</th>\n",
       "      <th>ano</th>\n",
       "      <th>curriculo</th>\n",
       "      <th>ch</th>\n",
       "      <th>nota</th>\n",
       "      <th>frequencia</th>\n",
       "      <th>status</th>\n",
       "      <th>tipo</th>\n",
       "      <th>observacao</th>\n",
       "      <th>natureza</th>\n",
       "      <th>situacaoDiscente</th>\n",
       "      <th>nomeTuma</th>\n",
       "      <th>codigoCurriculoSie</th>\n",
       "    </tr>\n",
       "  </thead>\n",
       "  <tbody>\n",
       "    <tr>\n",
       "      <th>0</th>\n",
       "      <td>0</td>\n",
       "      <td>CI055</td>\n",
       "      <td>ALGORITMOS E ESTRUTURAS DE DADOS I</td>\n",
       "      <td>1</td>\n",
       "      <td>2016</td>\n",
       "      <td>Sim</td>\n",
       "      <td>60</td>\n",
       "      <td>67</td>\n",
       "      <td>96</td>\n",
       "      <td>Aprovado</td>\n",
       "      <td>TURMA</td>\n",
       "      <td>C</td>\n",
       "      <td>Obrigatória</td>\n",
       "      <td>Conclusão formatura</td>\n",
       "      <td>NaN</td>\n",
       "      <td>21A</td>\n",
       "    </tr>\n",
       "    <tr>\n",
       "      <th>1</th>\n",
       "      <td>1</td>\n",
       "      <td>CI1055</td>\n",
       "      <td>ALGORITMOS E ESTRUTURAS DE DADOS 1</td>\n",
       "      <td>1</td>\n",
       "      <td>2019</td>\n",
       "      <td>Sim</td>\n",
       "      <td>60</td>\n",
       "      <td>0</td>\n",
       "      <td>73</td>\n",
       "      <td>R-freq</td>\n",
       "      <td>TURMA</td>\n",
       "      <td>NaN</td>\n",
       "      <td>Obrigatória</td>\n",
       "      <td>Registro ativo</td>\n",
       "      <td>A</td>\n",
       "      <td>21A</td>\n",
       "    </tr>\n",
       "  </tbody>\n",
       "</table>\n",
       "</div>"
      ],
      "text/plain": [
       "   matricula  codigo                          disciplina periodo   ano   \n",
       "0          0   CI055  ALGORITMOS E ESTRUTURAS DE DADOS I       1  2016  \\\n",
       "1          1  CI1055  ALGORITMOS E ESTRUTURAS DE DADOS 1       1  2019   \n",
       "\n",
       "  curriculo  ch  nota  frequencia    status   tipo observacao     natureza   \n",
       "0       Sim  60    67          96  Aprovado  TURMA          C  Obrigatória  \\\n",
       "1       Sim  60     0          73    R-freq  TURMA        NaN  Obrigatória   \n",
       "\n",
       "      situacaoDiscente nomeTuma codigoCurriculoSie  \n",
       "0  Conclusão formatura      NaN                21A  \n",
       "1       Registro ativo        A                21A  "
      ]
     },
     "execution_count": 609,
     "metadata": {},
     "output_type": "execute_result"
    }
   ],
   "source": [
    "SIGA.head(2)"
   ]
  },
  {
   "attachments": {},
   "cell_type": "markdown",
   "metadata": {},
   "source": [
    "## 1. Qual é a média de nota dos aprovados (no período total e por ano)?"
   ]
  },
  {
   "cell_type": "code",
   "execution_count": 610,
   "metadata": {},
   "outputs": [
    {
     "data": {
      "text/plain": [
       "array(['Aprovado', 'R-freq', 'R-nota', 'Cancelado', 'Matriculado',\n",
       "       'Reprovado'], dtype=object)"
      ]
     },
     "execution_count": 610,
     "metadata": {},
     "output_type": "execute_result"
    }
   ],
   "source": [
    "SIGA['status'].unique()"
   ]
  },
  {
   "cell_type": "code",
   "execution_count": 611,
   "metadata": {},
   "outputs": [
    {
     "data": {
      "text/html": [
       "<div>\n",
       "<style scoped>\n",
       "    .dataframe tbody tr th:only-of-type {\n",
       "        vertical-align: middle;\n",
       "    }\n",
       "\n",
       "    .dataframe tbody tr th {\n",
       "        vertical-align: top;\n",
       "    }\n",
       "\n",
       "    .dataframe thead th {\n",
       "        text-align: right;\n",
       "    }\n",
       "</style>\n",
       "<table border=\"1\" class=\"dataframe\">\n",
       "  <thead>\n",
       "    <tr style=\"text-align: right;\">\n",
       "      <th></th>\n",
       "      <th>matricula</th>\n",
       "      <th>codigo</th>\n",
       "      <th>disciplina</th>\n",
       "      <th>periodo</th>\n",
       "      <th>ano</th>\n",
       "      <th>curriculo</th>\n",
       "      <th>ch</th>\n",
       "      <th>nota</th>\n",
       "      <th>frequencia</th>\n",
       "      <th>status</th>\n",
       "      <th>tipo</th>\n",
       "      <th>observacao</th>\n",
       "      <th>natureza</th>\n",
       "      <th>situacaoDiscente</th>\n",
       "      <th>nomeTuma</th>\n",
       "      <th>codigoCurriculoSie</th>\n",
       "    </tr>\n",
       "  </thead>\n",
       "  <tbody>\n",
       "    <tr>\n",
       "      <th>0</th>\n",
       "      <td>0</td>\n",
       "      <td>CI055</td>\n",
       "      <td>ALGORITMOS E ESTRUTURAS DE DADOS I</td>\n",
       "      <td>1</td>\n",
       "      <td>2016</td>\n",
       "      <td>Sim</td>\n",
       "      <td>60</td>\n",
       "      <td>67</td>\n",
       "      <td>96</td>\n",
       "      <td>Aprovado</td>\n",
       "      <td>TURMA</td>\n",
       "      <td>C</td>\n",
       "      <td>Obrigatória</td>\n",
       "      <td>Conclusão formatura</td>\n",
       "      <td>NaN</td>\n",
       "      <td>21A</td>\n",
       "    </tr>\n",
       "    <tr>\n",
       "      <th>9</th>\n",
       "      <td>2</td>\n",
       "      <td>CI055</td>\n",
       "      <td>ALGORITMOS E ESTRUTURAS DE DADOS I</td>\n",
       "      <td>1</td>\n",
       "      <td>2015</td>\n",
       "      <td>Sim</td>\n",
       "      <td>60</td>\n",
       "      <td>72</td>\n",
       "      <td>96</td>\n",
       "      <td>Aprovado</td>\n",
       "      <td>TURMA</td>\n",
       "      <td>NaN</td>\n",
       "      <td>Obrigatória</td>\n",
       "      <td>Conclusão formatura</td>\n",
       "      <td>NaN</td>\n",
       "      <td>21A</td>\n",
       "    </tr>\n",
       "  </tbody>\n",
       "</table>\n",
       "</div>"
      ],
      "text/plain": [
       "   matricula codigo                          disciplina periodo   ano   \n",
       "0          0  CI055  ALGORITMOS E ESTRUTURAS DE DADOS I       1  2016  \\\n",
       "9          2  CI055  ALGORITMOS E ESTRUTURAS DE DADOS I       1  2015   \n",
       "\n",
       "  curriculo  ch  nota  frequencia    status   tipo observacao     natureza   \n",
       "0       Sim  60    67          96  Aprovado  TURMA          C  Obrigatória  \\\n",
       "9       Sim  60    72          96  Aprovado  TURMA        NaN  Obrigatória   \n",
       "\n",
       "      situacaoDiscente nomeTuma codigoCurriculoSie  \n",
       "0  Conclusão formatura      NaN                21A  \n",
       "9  Conclusão formatura      NaN                21A  "
      ]
     },
     "execution_count": 611,
     "metadata": {},
     "output_type": "execute_result"
    }
   ],
   "source": [
    "aprovados = SIGA[SIGA['status'] == 'Aprovado']\n",
    "aprovados.head(2)"
   ]
  },
  {
   "cell_type": "code",
   "execution_count": 612,
   "metadata": {},
   "outputs": [
    {
     "data": {
      "text/plain": [
       "60.017628205128204"
      ]
     },
     "execution_count": 612,
     "metadata": {},
     "output_type": "execute_result"
    }
   ],
   "source": [
    "media_aprovados_geral = aprovados['nota'].mean()\n",
    "media_aprovados_geral"
   ]
  },
  {
   "cell_type": "code",
   "execution_count": 613,
   "metadata": {},
   "outputs": [
    {
     "data": {
      "text/plain": [
       "ano\n",
       "2011    50.000000\n",
       "2013    70.375000\n",
       "2014    72.142857\n",
       "2015    63.678571\n",
       "2016    67.391304\n",
       "2017    74.710145\n",
       "2018    70.869565\n",
       "2019    31.450495\n",
       "2020    72.400000\n",
       "2021    83.882353\n",
       "2022    76.428571\n",
       "Name: nota, dtype: float64"
      ]
     },
     "execution_count": 613,
     "metadata": {},
     "output_type": "execute_result"
    }
   ],
   "source": [
    "media_aprovados_por_ano = aprovados.groupby('ano')['nota'].mean()\n",
    "media_aprovados_por_ano"
   ]
  },
  {
   "cell_type": "code",
   "execution_count": 614,
   "metadata": {},
   "outputs": [
    {
     "data": {
      "text/plain": [
       "<Axes: xlabel='ano'>"
      ]
     },
     "execution_count": 614,
     "metadata": {},
     "output_type": "execute_result"
    },
    {
     "data": {
      "image/png": "[encoded data removed]",
      "text/plain": [
       "<Figure size 640x480 with 1 Axes>"
      ]
     },
     "metadata": {},
     "output_type": "display_data"
    }
   ],
   "source": [
    "media_aprovados_por_ano.plot(kind='bar')"
   ]
  },
  {
   "attachments": {},
   "cell_type": "markdown",
   "metadata": {},
   "source": [
    "## 2. Qual é a média de nota dos reprovados por nota (período total e ano)?"
   ]
  },
  {
   "attachments": {},
   "cell_type": "markdown",
   "metadata": {},
   "source": [
    "### 2.1 Ajuste de registros  dos alunos cujo status está apenas como 'Reprovado', sem discriminação de se se trata de reprovação por nota ('R-nota') ou frequência ('R-freq')."
   ]
  },
  {
   "cell_type": "code",
   "execution_count": 615,
   "metadata": {},
   "outputs": [
    {
     "data": {
      "text/html": [
       "<div>\n",
       "<style scoped>\n",
       "    .dataframe tbody tr th:only-of-type {\n",
       "        vertical-align: middle;\n",
       "    }\n",
       "\n",
       "    .dataframe tbody tr th {\n",
       "        vertical-align: top;\n",
       "    }\n",
       "\n",
       "    .dataframe thead th {\n",
       "        text-align: right;\n",
       "    }\n",
       "</style>\n",
       "<table border=\"1\" class=\"dataframe\">\n",
       "  <thead>\n",
       "    <tr style=\"text-align: right;\">\n",
       "      <th></th>\n",
       "      <th>matricula</th>\n",
       "      <th>codigo</th>\n",
       "      <th>disciplina</th>\n",
       "      <th>periodo</th>\n",
       "      <th>ano</th>\n",
       "      <th>curriculo</th>\n",
       "      <th>ch</th>\n",
       "      <th>nota</th>\n",
       "      <th>frequencia</th>\n",
       "      <th>status</th>\n",
       "      <th>tipo</th>\n",
       "      <th>observacao</th>\n",
       "      <th>natureza</th>\n",
       "      <th>situacaoDiscente</th>\n",
       "      <th>nomeTuma</th>\n",
       "      <th>codigoCurriculoSie</th>\n",
       "    </tr>\n",
       "  </thead>\n",
       "  <tbody>\n",
       "    <tr>\n",
       "      <th>1</th>\n",
       "      <td>1</td>\n",
       "      <td>CI1055</td>\n",
       "      <td>ALGORITMOS E ESTRUTURAS DE DADOS 1</td>\n",
       "      <td>1</td>\n",
       "      <td>2019</td>\n",
       "      <td>Sim</td>\n",
       "      <td>60</td>\n",
       "      <td>0</td>\n",
       "      <td>73</td>\n",
       "      <td>R-freq</td>\n",
       "      <td>TURMA</td>\n",
       "      <td>NaN</td>\n",
       "      <td>Obrigatória</td>\n",
       "      <td>Registro ativo</td>\n",
       "      <td>A</td>\n",
       "      <td>21A</td>\n",
       "    </tr>\n",
       "    <tr>\n",
       "      <th>2</th>\n",
       "      <td>1</td>\n",
       "      <td>CI1055</td>\n",
       "      <td>ALGORITMOS E ESTRUTURAS DE DADOS 1</td>\n",
       "      <td>2</td>\n",
       "      <td>2019</td>\n",
       "      <td>Sim</td>\n",
       "      <td>60</td>\n",
       "      <td>11</td>\n",
       "      <td>76</td>\n",
       "      <td>R-nota</td>\n",
       "      <td>TURMA</td>\n",
       "      <td>NaN</td>\n",
       "      <td>Obrigatória</td>\n",
       "      <td>Registro ativo</td>\n",
       "      <td>B</td>\n",
       "      <td>21A</td>\n",
       "    </tr>\n",
       "    <tr>\n",
       "      <th>5</th>\n",
       "      <td>1</td>\n",
       "      <td>CI1055</td>\n",
       "      <td>ALGORITMOS E ESTRUTURAS DE DADOS 1</td>\n",
       "      <td>1</td>\n",
       "      <td>2021</td>\n",
       "      <td>Sim</td>\n",
       "      <td>60</td>\n",
       "      <td>3</td>\n",
       "      <td>17</td>\n",
       "      <td>R-freq</td>\n",
       "      <td>TURMA</td>\n",
       "      <td>NaN</td>\n",
       "      <td>Obrigatória</td>\n",
       "      <td>Registro ativo</td>\n",
       "      <td>A</td>\n",
       "      <td>21A</td>\n",
       "    </tr>\n",
       "    <tr>\n",
       "      <th>6</th>\n",
       "      <td>1</td>\n",
       "      <td>CI1055</td>\n",
       "      <td>ALGORITMOS E ESTRUTURAS DE DADOS 1</td>\n",
       "      <td>2</td>\n",
       "      <td>2021</td>\n",
       "      <td>Sim</td>\n",
       "      <td>60</td>\n",
       "      <td>21</td>\n",
       "      <td>80</td>\n",
       "      <td>R-nota</td>\n",
       "      <td>TURMA</td>\n",
       "      <td>NaN</td>\n",
       "      <td>Obrigatória</td>\n",
       "      <td>Registro ativo</td>\n",
       "      <td>D</td>\n",
       "      <td>21A</td>\n",
       "    </tr>\n",
       "    <tr>\n",
       "      <th>7</th>\n",
       "      <td>1</td>\n",
       "      <td>CI1055</td>\n",
       "      <td>ALGORITMOS E ESTRUTURAS DE DADOS 1</td>\n",
       "      <td>1</td>\n",
       "      <td>2022</td>\n",
       "      <td>Sim</td>\n",
       "      <td>60</td>\n",
       "      <td>0</td>\n",
       "      <td>25</td>\n",
       "      <td>R-freq</td>\n",
       "      <td>TURMA</td>\n",
       "      <td>NaN</td>\n",
       "      <td>Obrigatória</td>\n",
       "      <td>Registro ativo</td>\n",
       "      <td>BCC2</td>\n",
       "      <td>21A</td>\n",
       "    </tr>\n",
       "  </tbody>\n",
       "</table>\n",
       "</div>"
      ],
      "text/plain": [
       "   matricula  codigo                          disciplina periodo   ano   \n",
       "1          1  CI1055  ALGORITMOS E ESTRUTURAS DE DADOS 1       1  2019  \\\n",
       "2          1  CI1055  ALGORITMOS E ESTRUTURAS DE DADOS 1       2  2019   \n",
       "5          1  CI1055  ALGORITMOS E ESTRUTURAS DE DADOS 1       1  2021   \n",
       "6          1  CI1055  ALGORITMOS E ESTRUTURAS DE DADOS 1       2  2021   \n",
       "7          1  CI1055  ALGORITMOS E ESTRUTURAS DE DADOS 1       1  2022   \n",
       "\n",
       "  curriculo  ch  nota  frequencia  status   tipo observacao     natureza   \n",
       "1       Sim  60     0          73  R-freq  TURMA        NaN  Obrigatória  \\\n",
       "2       Sim  60    11          76  R-nota  TURMA        NaN  Obrigatória   \n",
       "5       Sim  60     3          17  R-freq  TURMA        NaN  Obrigatória   \n",
       "6       Sim  60    21          80  R-nota  TURMA        NaN  Obrigatória   \n",
       "7       Sim  60     0          25  R-freq  TURMA        NaN  Obrigatória   \n",
       "\n",
       "  situacaoDiscente nomeTuma codigoCurriculoSie  \n",
       "1   Registro ativo        A                21A  \n",
       "2   Registro ativo        B                21A  \n",
       "5   Registro ativo        A                21A  \n",
       "6   Registro ativo        D                21A  \n",
       "7   Registro ativo     BCC2                21A  "
      ]
     },
     "execution_count": 615,
     "metadata": {},
     "output_type": "execute_result"
    }
   ],
   "source": [
    "rotulos_reprovados = ['R-nota', 'Reprovado', 'R-freq']\n",
    "\n",
    "reprovados = SIGA[SIGA['status'].isin(rotulos_reprovados)]\n",
    "reprovados.head()"
   ]
  },
  {
   "cell_type": "code",
   "execution_count": 616,
   "metadata": {},
   "outputs": [
    {
     "data": {
      "text/plain": [
       "status\n",
       "R-nota       162\n",
       "R-freq        49\n",
       "Reprovado      1\n",
       "Name: count, dtype: int64"
      ]
     },
     "execution_count": 616,
     "metadata": {},
     "output_type": "execute_result"
    }
   ],
   "source": [
    "reprovados['status'].value_counts()"
   ]
  },
  {
   "cell_type": "code",
   "execution_count": 617,
   "metadata": {},
   "outputs": [
    {
     "data": {
      "text/html": [
       "<div>\n",
       "<style scoped>\n",
       "    .dataframe tbody tr th:only-of-type {\n",
       "        vertical-align: middle;\n",
       "    }\n",
       "\n",
       "    .dataframe tbody tr th {\n",
       "        vertical-align: top;\n",
       "    }\n",
       "\n",
       "    .dataframe thead th {\n",
       "        text-align: right;\n",
       "    }\n",
       "</style>\n",
       "<table border=\"1\" class=\"dataframe\">\n",
       "  <thead>\n",
       "    <tr style=\"text-align: right;\">\n",
       "      <th></th>\n",
       "      <th>matricula</th>\n",
       "      <th>codigo</th>\n",
       "      <th>disciplina</th>\n",
       "      <th>periodo</th>\n",
       "      <th>ano</th>\n",
       "      <th>curriculo</th>\n",
       "      <th>ch</th>\n",
       "      <th>nota</th>\n",
       "      <th>frequencia</th>\n",
       "      <th>status</th>\n",
       "      <th>tipo</th>\n",
       "      <th>observacao</th>\n",
       "      <th>natureza</th>\n",
       "      <th>situacaoDiscente</th>\n",
       "      <th>nomeTuma</th>\n",
       "      <th>codigoCurriculoSie</th>\n",
       "    </tr>\n",
       "  </thead>\n",
       "  <tbody>\n",
       "    <tr>\n",
       "      <th>165</th>\n",
       "      <td>95</td>\n",
       "      <td>CI055</td>\n",
       "      <td>ALGORITMOS E ESTRUTURAS DE DADOS I</td>\n",
       "      <td>Anual</td>\n",
       "      <td>2019</td>\n",
       "      <td>Sim</td>\n",
       "      <td>60</td>\n",
       "      <td>5</td>\n",
       "      <td>0</td>\n",
       "      <td>Reprovado</td>\n",
       "      <td>APROVEITAMENTO</td>\n",
       "      <td>NaN</td>\n",
       "      <td>-</td>\n",
       "      <td>Registro ativo</td>\n",
       "      <td>NaN</td>\n",
       "      <td>21A</td>\n",
       "    </tr>\n",
       "  </tbody>\n",
       "</table>\n",
       "</div>"
      ],
      "text/plain": [
       "     matricula codigo                          disciplina periodo   ano   \n",
       "165         95  CI055  ALGORITMOS E ESTRUTURAS DE DADOS I   Anual  2019  \\\n",
       "\n",
       "    curriculo  ch  nota  frequencia     status            tipo observacao   \n",
       "165       Sim  60     5           0  Reprovado  APROVEITAMENTO        NaN  \\\n",
       "\n",
       "    natureza situacaoDiscente nomeTuma codigoCurriculoSie  \n",
       "165        -   Registro ativo      NaN                21A  "
      ]
     },
     "execution_count": 617,
     "metadata": {},
     "output_type": "execute_result"
    }
   ],
   "source": [
    "reprovados[reprovados['status'] == 'Reprovado']"
   ]
  },
  {
   "cell_type": "code",
   "execution_count": 618,
   "metadata": {},
   "outputs": [
    {
     "data": {
      "text/plain": [
       "status\n",
       "R-nota    162\n",
       "R-freq     50\n",
       "Name: count, dtype: int64"
      ]
     },
     "execution_count": 618,
     "metadata": {},
     "output_type": "execute_result"
    }
   ],
   "source": [
    "reprovados.loc[reprovados['status'] == 'Reprovado', 'status'] = 'R-freq'\n",
    "reprovados['status'].value_counts()"
   ]
  },
  {
   "attachments": {},
   "cell_type": "markdown",
   "metadata": {},
   "source": [
    "### 2.2 Médias dos reprovados por nota"
   ]
  },
  {
   "cell_type": "code",
   "execution_count": 619,
   "metadata": {},
   "outputs": [
    {
     "data": {
      "text/html": [
       "<div>\n",
       "<style scoped>\n",
       "    .dataframe tbody tr th:only-of-type {\n",
       "        vertical-align: middle;\n",
       "    }\n",
       "\n",
       "    .dataframe tbody tr th {\n",
       "        vertical-align: top;\n",
       "    }\n",
       "\n",
       "    .dataframe thead th {\n",
       "        text-align: right;\n",
       "    }\n",
       "</style>\n",
       "<table border=\"1\" class=\"dataframe\">\n",
       "  <thead>\n",
       "    <tr style=\"text-align: right;\">\n",
       "      <th></th>\n",
       "      <th>matricula</th>\n",
       "      <th>codigo</th>\n",
       "      <th>disciplina</th>\n",
       "      <th>periodo</th>\n",
       "      <th>ano</th>\n",
       "      <th>curriculo</th>\n",
       "      <th>ch</th>\n",
       "      <th>nota</th>\n",
       "      <th>frequencia</th>\n",
       "      <th>status</th>\n",
       "      <th>tipo</th>\n",
       "      <th>observacao</th>\n",
       "      <th>natureza</th>\n",
       "      <th>situacaoDiscente</th>\n",
       "      <th>nomeTuma</th>\n",
       "      <th>codigoCurriculoSie</th>\n",
       "    </tr>\n",
       "  </thead>\n",
       "  <tbody>\n",
       "    <tr>\n",
       "      <th>2</th>\n",
       "      <td>1</td>\n",
       "      <td>CI1055</td>\n",
       "      <td>ALGORITMOS E ESTRUTURAS DE DADOS 1</td>\n",
       "      <td>2</td>\n",
       "      <td>2019</td>\n",
       "      <td>Sim</td>\n",
       "      <td>60</td>\n",
       "      <td>11</td>\n",
       "      <td>76</td>\n",
       "      <td>R-nota</td>\n",
       "      <td>TURMA</td>\n",
       "      <td>NaN</td>\n",
       "      <td>Obrigatória</td>\n",
       "      <td>Registro ativo</td>\n",
       "      <td>B</td>\n",
       "      <td>21A</td>\n",
       "    </tr>\n",
       "    <tr>\n",
       "      <th>6</th>\n",
       "      <td>1</td>\n",
       "      <td>CI1055</td>\n",
       "      <td>ALGORITMOS E ESTRUTURAS DE DADOS 1</td>\n",
       "      <td>2</td>\n",
       "      <td>2021</td>\n",
       "      <td>Sim</td>\n",
       "      <td>60</td>\n",
       "      <td>21</td>\n",
       "      <td>80</td>\n",
       "      <td>R-nota</td>\n",
       "      <td>TURMA</td>\n",
       "      <td>NaN</td>\n",
       "      <td>Obrigatória</td>\n",
       "      <td>Registro ativo</td>\n",
       "      <td>D</td>\n",
       "      <td>21A</td>\n",
       "    </tr>\n",
       "    <tr>\n",
       "      <th>13</th>\n",
       "      <td>5</td>\n",
       "      <td>CI055</td>\n",
       "      <td>ALGORITMOS E ESTRUTURAS DE DADOS I</td>\n",
       "      <td>1</td>\n",
       "      <td>2016</td>\n",
       "      <td>Não</td>\n",
       "      <td>60</td>\n",
       "      <td>1</td>\n",
       "      <td>83</td>\n",
       "      <td>R-nota</td>\n",
       "      <td>TURMA</td>\n",
       "      <td>NaN</td>\n",
       "      <td>-</td>\n",
       "      <td>Registro ativo</td>\n",
       "      <td>D</td>\n",
       "      <td>21A</td>\n",
       "    </tr>\n",
       "  </tbody>\n",
       "</table>\n",
       "</div>"
      ],
      "text/plain": [
       "    matricula  codigo                          disciplina periodo   ano   \n",
       "2           1  CI1055  ALGORITMOS E ESTRUTURAS DE DADOS 1       2  2019  \\\n",
       "6           1  CI1055  ALGORITMOS E ESTRUTURAS DE DADOS 1       2  2021   \n",
       "13          5   CI055  ALGORITMOS E ESTRUTURAS DE DADOS I       1  2016   \n",
       "\n",
       "   curriculo  ch  nota  frequencia  status   tipo observacao     natureza   \n",
       "2        Sim  60    11          76  R-nota  TURMA        NaN  Obrigatória  \\\n",
       "6        Sim  60    21          80  R-nota  TURMA        NaN  Obrigatória   \n",
       "13       Não  60     1          83  R-nota  TURMA        NaN            -   \n",
       "\n",
       "   situacaoDiscente nomeTuma codigoCurriculoSie  \n",
       "2    Registro ativo        B                21A  \n",
       "6    Registro ativo        D                21A  \n",
       "13   Registro ativo        D                21A  "
      ]
     },
     "execution_count": 619,
     "metadata": {},
     "output_type": "execute_result"
    }
   ],
   "source": [
    "reprovados_por_nota = reprovados[reprovados['status'] == 'R-nota']\n",
    "reprovados_por_nota.head(3)"
   ]
  },
  {
   "cell_type": "code",
   "execution_count": 620,
   "metadata": {},
   "outputs": [
    {
     "data": {
      "text/plain": [
       "22.037037037037038"
      ]
     },
     "execution_count": 620,
     "metadata": {},
     "output_type": "execute_result"
    }
   ],
   "source": [
    "media_geral_reprovados_por_nota = reprovados_por_nota['nota'].mean()\n",
    "media_geral_reprovados_por_nota"
   ]
  },
  {
   "cell_type": "code",
   "execution_count": 621,
   "metadata": {},
   "outputs": [
    {
     "data": {
      "text/plain": [
       "ano\n",
       "2012    24.000000\n",
       "2013    30.000000\n",
       "2014    25.000000\n",
       "2015    19.833333\n",
       "2016    15.400000\n",
       "2017    25.904762\n",
       "2018    23.136364\n",
       "2019    23.321429\n",
       "2020    25.875000\n",
       "2021    19.589744\n",
       "2022    19.777778\n",
       "Name: nota, dtype: float64"
      ]
     },
     "execution_count": 621,
     "metadata": {},
     "output_type": "execute_result"
    }
   ],
   "source": [
    "media_por_ano_reprovados_por_nota = reprovados_por_nota.groupby('ano')['nota'].mean()\n",
    "media_por_ano_reprovados_por_nota"
   ]
  },
  {
   "cell_type": "code",
   "execution_count": 622,
   "metadata": {},
   "outputs": [
    {
     "data": {
      "text/plain": [
       "<Axes: xlabel='ano'>"
      ]
     },
     "execution_count": 622,
     "metadata": {},
     "output_type": "execute_result"
    },
    {
     "data": {
      "image/png": "[encoded data removed]",
      "text/plain": [
       "<Figure size 640x480 with 1 Axes>"
      ]
     },
     "metadata": {},
     "output_type": "display_data"
    }
   ],
   "source": [
    "media_por_ano_reprovados_por_nota.plot(kind='bar')"
   ]
  },
  {
   "attachments": {},
   "cell_type": "markdown",
   "metadata": {},
   "source": [
    "## 3. Qual é a frequência dos reprovados por nota (período total e por ano)?"
   ]
  },
  {
   "cell_type": "code",
   "execution_count": 623,
   "metadata": {},
   "outputs": [
    {
     "data": {
      "text/plain": [
       "93.85802469135803"
      ]
     },
     "execution_count": 623,
     "metadata": {},
     "output_type": "execute_result"
    }
   ],
   "source": [
    "frequencia_geral_reprovados_por_nota = reprovados_por_nota['frequencia'].mean()\n",
    "frequencia_geral_reprovados_por_nota"
   ]
  },
  {
   "cell_type": "code",
   "execution_count": 624,
   "metadata": {},
   "outputs": [
    {
     "data": {
      "text/plain": [
       "ano\n",
       "2012     98.000000\n",
       "2013    100.000000\n",
       "2014     90.000000\n",
       "2015     94.666667\n",
       "2016     86.200000\n",
       "2017     93.666667\n",
       "2018     93.454545\n",
       "2019     90.892857\n",
       "2020     96.125000\n",
       "2021     94.923077\n",
       "2022     95.592593\n",
       "Name: frequencia, dtype: float64"
      ]
     },
     "execution_count": 624,
     "metadata": {},
     "output_type": "execute_result"
    }
   ],
   "source": [
    "frequencia_por_ano_reprovados_por_nota = reprovados_por_nota.groupby('ano')['frequencia'].mean()\n",
    "frequencia_por_ano_reprovados_por_nota"
   ]
  },
  {
   "cell_type": "code",
   "execution_count": 625,
   "metadata": {},
   "outputs": [
    {
     "data": {
      "text/plain": [
       "<Axes: xlabel='ano'>"
      ]
     },
     "execution_count": 625,
     "metadata": {},
     "output_type": "execute_result"
    },
    {
     "data": {
      "image/png": "[encoded data removed]",
      "text/plain": [
       "<Figure size 640x480 with 1 Axes>"
      ]
     },
     "metadata": {},
     "output_type": "display_data"
    }
   ],
   "source": [
    "frequencia_por_ano_reprovados_por_nota.plot(kind='bar')"
   ]
  },
  {
   "attachments": {},
   "cell_type": "markdown",
   "metadata": {},
   "source": [
    "## 4. Qual a porcentagem de evasões (total e anual)?"
   ]
  },
  {
   "cell_type": "code",
   "execution_count": 626,
   "metadata": {},
   "outputs": [
    {
     "data": {
      "text/plain": [
       "situacaoDiscente\n",
       "Registro ativo         610\n",
       "Evasão                 142\n",
       "Conclusão formatura    103\n",
       "Trancamento             54\n",
       "Name: count, dtype: int64"
      ]
     },
     "execution_count": 626,
     "metadata": {},
     "output_type": "execute_result"
    }
   ],
   "source": [
    "SIGA['situacaoDiscente'].value_counts()"
   ]
  },
  {
   "cell_type": "code",
   "execution_count": 627,
   "metadata": {},
   "outputs": [
    {
     "data": {
      "text/plain": [
       "15.62156215621562"
      ]
     },
     "execution_count": 627,
     "metadata": {},
     "output_type": "execute_result"
    }
   ],
   "source": [
    "porcentagem_geral_evasoes = SIGA[SIGA['situacaoDiscente'] == 'Evasão']['situacaoDiscente'].count()/SIGA['situacaoDiscente'].count() * 100\n",
    "porcentagem_geral_evasoes"
   ]
  },
  {
   "cell_type": "code",
   "execution_count": 628,
   "metadata": {},
   "outputs": [
    {
     "data": {
      "text/plain": [
       "ano\n",
       "2011      1\n",
       "2012      4\n",
       "2013     11\n",
       "2014     13\n",
       "2015     35\n",
       "2016     53\n",
       "2017     92\n",
       "2018     96\n",
       "2019    238\n",
       "2020    106\n",
       "2021    138\n",
       "2022    122\n",
       "Name: situacaoDiscente, dtype: int64"
      ]
     },
     "execution_count": 628,
     "metadata": {},
     "output_type": "execute_result"
    }
   ],
   "source": [
    "SIGA.groupby('ano')['situacaoDiscente'].count()"
   ]
  },
  {
   "cell_type": "code",
   "execution_count": 629,
   "metadata": {},
   "outputs": [
    {
     "data": {
      "text/plain": [
       "ano   situacaoDiscente   \n",
       "2011  Conclusão formatura    100.000000\n",
       "2012  Conclusão formatura     50.000000\n",
       "      Registro ativo          50.000000\n",
       "2013  Evasão                  63.636364\n",
       "      Registro ativo          18.181818\n",
       "      Conclusão formatura     18.181818\n",
       "2014  Conclusão formatura     61.538462\n",
       "      Evasão                  23.076923\n",
       "      Registro ativo          15.384615\n",
       "2015  Conclusão formatura     45.714286\n",
       "      Registro ativo          28.571429\n",
       "      Evasão                  20.000000\n",
       "      Trancamento              5.714286\n",
       "2016  Conclusão formatura     54.716981\n",
       "      Registro ativo          20.754717\n",
       "      Evasão                  15.094340\n",
       "      Trancamento              9.433962\n",
       "2017  Registro ativo          50.000000\n",
       "      Conclusão formatura     25.000000\n",
       "      Evasão                  18.478261\n",
       "      Trancamento              6.521739\n",
       "2018  Registro ativo          65.625000\n",
       "      Evasão                  22.916667\n",
       "      Trancamento              6.250000\n",
       "      Conclusão formatura      5.208333\n",
       "2019  Registro ativo          70.168067\n",
       "      Evasão                  16.386555\n",
       "      Conclusão formatura      7.142857\n",
       "      Trancamento              6.302521\n",
       "2020  Registro ativo          78.301887\n",
       "      Evasão                  17.924528\n",
       "      Trancamento              3.773585\n",
       "2021  Registro ativo          79.710145\n",
       "      Evasão                  12.318841\n",
       "      Trancamento              7.971014\n",
       "2022  Registro ativo          93.442623\n",
       "      Trancamento              4.098361\n",
       "      Evasão                   2.459016\n",
       "dtype: float64"
      ]
     },
     "execution_count": 629,
     "metadata": {},
     "output_type": "execute_result"
    }
   ],
   "source": [
    "porcentagem_evasoes_por_ano = SIGA.groupby('ano')['situacaoDiscente'].value_counts()/SIGA.groupby('ano')['situacaoDiscente'].count() * 100\n",
    "porcentagem_evasoes_por_ano"
   ]
  },
  {
   "cell_type": "code",
   "execution_count": 630,
   "metadata": {},
   "outputs": [
    {
     "data": {
      "text/plain": [
       "<Axes: xlabel='ano,situacaoDiscente'>"
      ]
     },
     "execution_count": 630,
     "metadata": {},
     "output_type": "execute_result"
    },
    {
     "data": {
      "image/png": "[encoded data removed]",
      "text/plain": [
       "<Figure size 640x480 with 1 Axes>"
      ]
     },
     "metadata": {},
     "output_type": "display_data"
    }
   ],
   "source": [
    "porcentagem_evasoes_por_ano.plot(kind='bar')"
   ]
  },
  {
   "attachments": {},
   "cell_type": "markdown",
   "metadata": {},
   "source": [
    "## 5. Como os anos de pandemia impactaram no rendimento dos estudantes em relação aos anos anteriores, considerando o rendimento dos aprovados, a taxa de cancelamento e as reprovações? Considere como anos de pandemia os anos de 2020 e 2021."
   ]
  },
  {
   "attachments": {},
   "cell_type": "markdown",
   "metadata": {},
   "source": [
    "De acordo com o que pode ser observado nos gráficos a respeito dos anos da pandameia em que houve mais distanciamento social (2020 e 2021), tem-se que as taxas de evasão foram menores do que a média dos anos anteriores. A frequência dos aprovados foi semelhante à dos períodos sem distanciamento, porém as notas dos aprovados foram superiores."
   ]
  },
  {
   "attachments": {},
   "cell_type": "markdown",
   "metadata": {},
   "source": [
    "## 6. Compare a volta às aulas híbrida (2022 período 1) com os anos de pandemia e os anos anteriores."
   ]
  },
  {
   "cell_type": "code",
   "execution_count": 631,
   "metadata": {},
   "outputs": [
    {
     "data": {
      "text/html": [
       "<div>\n",
       "<style scoped>\n",
       "    .dataframe tbody tr th:only-of-type {\n",
       "        vertical-align: middle;\n",
       "    }\n",
       "\n",
       "    .dataframe tbody tr th {\n",
       "        vertical-align: top;\n",
       "    }\n",
       "\n",
       "    .dataframe thead th {\n",
       "        text-align: right;\n",
       "    }\n",
       "</style>\n",
       "<table border=\"1\" class=\"dataframe\">\n",
       "  <thead>\n",
       "    <tr style=\"text-align: right;\">\n",
       "      <th></th>\n",
       "      <th>matricula</th>\n",
       "      <th>codigo</th>\n",
       "      <th>disciplina</th>\n",
       "      <th>periodo</th>\n",
       "      <th>ano</th>\n",
       "      <th>curriculo</th>\n",
       "      <th>ch</th>\n",
       "      <th>nota</th>\n",
       "      <th>frequencia</th>\n",
       "      <th>status</th>\n",
       "      <th>tipo</th>\n",
       "      <th>observacao</th>\n",
       "      <th>natureza</th>\n",
       "      <th>situacaoDiscente</th>\n",
       "      <th>nomeTuma</th>\n",
       "      <th>codigoCurriculoSie</th>\n",
       "    </tr>\n",
       "  </thead>\n",
       "  <tbody>\n",
       "    <tr>\n",
       "      <th>7</th>\n",
       "      <td>1</td>\n",
       "      <td>CI1055</td>\n",
       "      <td>ALGORITMOS E ESTRUTURAS DE DADOS 1</td>\n",
       "      <td>1</td>\n",
       "      <td>2022</td>\n",
       "      <td>Sim</td>\n",
       "      <td>60</td>\n",
       "      <td>0</td>\n",
       "      <td>25</td>\n",
       "      <td>R-freq</td>\n",
       "      <td>TURMA</td>\n",
       "      <td>NaN</td>\n",
       "      <td>Obrigatória</td>\n",
       "      <td>Registro ativo</td>\n",
       "      <td>BCC2</td>\n",
       "      <td>21A</td>\n",
       "    </tr>\n",
       "    <tr>\n",
       "      <th>8</th>\n",
       "      <td>1</td>\n",
       "      <td>CI1055</td>\n",
       "      <td>ALGORITMOS E ESTRUTURAS DE DADOS 1</td>\n",
       "      <td>2</td>\n",
       "      <td>2022</td>\n",
       "      <td>Sim</td>\n",
       "      <td>60</td>\n",
       "      <td>0</td>\n",
       "      <td>0</td>\n",
       "      <td>Matriculado</td>\n",
       "      <td>TURMA</td>\n",
       "      <td>NaN</td>\n",
       "      <td>Obrigatória</td>\n",
       "      <td>Registro ativo</td>\n",
       "      <td>BCC1</td>\n",
       "      <td>21A</td>\n",
       "    </tr>\n",
       "  </tbody>\n",
       "</table>\n",
       "</div>"
      ],
      "text/plain": [
       "   matricula  codigo                          disciplina periodo   ano   \n",
       "7          1  CI1055  ALGORITMOS E ESTRUTURAS DE DADOS 1       1  2022  \\\n",
       "8          1  CI1055  ALGORITMOS E ESTRUTURAS DE DADOS 1       2  2022   \n",
       "\n",
       "  curriculo  ch  nota  frequencia       status   tipo observacao     natureza   \n",
       "7       Sim  60     0          25       R-freq  TURMA        NaN  Obrigatória  \\\n",
       "8       Sim  60     0           0  Matriculado  TURMA        NaN  Obrigatória   \n",
       "\n",
       "  situacaoDiscente nomeTuma codigoCurriculoSie  \n",
       "7   Registro ativo     BCC2                21A  \n",
       "8   Registro ativo     BCC1                21A  "
      ]
     },
     "execution_count": 631,
     "metadata": {},
     "output_type": "execute_result"
    }
   ],
   "source": [
    "turmas_2022 = SIGA[SIGA['ano'] == 2022]\n",
    "turmas_2022.head(2)"
   ]
  },
  {
   "cell_type": "code",
   "execution_count": 632,
   "metadata": {},
   "outputs": [
    {
     "data": {
      "text/html": [
       "<div>\n",
       "<style scoped>\n",
       "    .dataframe tbody tr th:only-of-type {\n",
       "        vertical-align: middle;\n",
       "    }\n",
       "\n",
       "    .dataframe tbody tr th {\n",
       "        vertical-align: top;\n",
       "    }\n",
       "\n",
       "    .dataframe thead th {\n",
       "        text-align: right;\n",
       "    }\n",
       "</style>\n",
       "<table border=\"1\" class=\"dataframe\">\n",
       "  <thead>\n",
       "    <tr style=\"text-align: right;\">\n",
       "      <th></th>\n",
       "      <th>matricula</th>\n",
       "      <th>codigo</th>\n",
       "      <th>disciplina</th>\n",
       "      <th>periodo</th>\n",
       "      <th>ano</th>\n",
       "      <th>curriculo</th>\n",
       "      <th>ch</th>\n",
       "      <th>nota</th>\n",
       "      <th>frequencia</th>\n",
       "      <th>status</th>\n",
       "      <th>tipo</th>\n",
       "      <th>observacao</th>\n",
       "      <th>natureza</th>\n",
       "      <th>situacaoDiscente</th>\n",
       "      <th>nomeTuma</th>\n",
       "      <th>codigoCurriculoSie</th>\n",
       "    </tr>\n",
       "  </thead>\n",
       "  <tbody>\n",
       "    <tr>\n",
       "      <th>7</th>\n",
       "      <td>1</td>\n",
       "      <td>CI1055</td>\n",
       "      <td>ALGORITMOS E ESTRUTURAS DE DADOS 1</td>\n",
       "      <td>1</td>\n",
       "      <td>2022</td>\n",
       "      <td>Sim</td>\n",
       "      <td>60</td>\n",
       "      <td>0</td>\n",
       "      <td>25</td>\n",
       "      <td>R-freq</td>\n",
       "      <td>TURMA</td>\n",
       "      <td>NaN</td>\n",
       "      <td>Obrigatória</td>\n",
       "      <td>Registro ativo</td>\n",
       "      <td>BCC2</td>\n",
       "      <td>21A</td>\n",
       "    </tr>\n",
       "    <tr>\n",
       "      <th>10</th>\n",
       "      <td>3</td>\n",
       "      <td>CI1055</td>\n",
       "      <td>ALGORITMOS E ESTRUTURAS DE DADOS 1</td>\n",
       "      <td>1</td>\n",
       "      <td>2022</td>\n",
       "      <td>Sim</td>\n",
       "      <td>60</td>\n",
       "      <td>72</td>\n",
       "      <td>100</td>\n",
       "      <td>Aprovado</td>\n",
       "      <td>TURMA</td>\n",
       "      <td>NaN</td>\n",
       "      <td>Obrigatória</td>\n",
       "      <td>Registro ativo</td>\n",
       "      <td>BCC1</td>\n",
       "      <td>21A</td>\n",
       "    </tr>\n",
       "  </tbody>\n",
       "</table>\n",
       "</div>"
      ],
      "text/plain": [
       "    matricula  codigo                          disciplina periodo   ano   \n",
       "7           1  CI1055  ALGORITMOS E ESTRUTURAS DE DADOS 1       1  2022  \\\n",
       "10          3  CI1055  ALGORITMOS E ESTRUTURAS DE DADOS 1       1  2022   \n",
       "\n",
       "   curriculo  ch  nota  frequencia    status   tipo observacao     natureza   \n",
       "7        Sim  60     0          25    R-freq  TURMA        NaN  Obrigatória  \\\n",
       "10       Sim  60    72         100  Aprovado  TURMA        NaN  Obrigatória   \n",
       "\n",
       "   situacaoDiscente nomeTuma codigoCurriculoSie  \n",
       "7    Registro ativo     BCC2                21A  \n",
       "10   Registro ativo     BCC1                21A  "
      ]
     },
     "execution_count": 632,
     "metadata": {},
     "output_type": "execute_result"
    }
   ],
   "source": [
    "turmas_2022_1 = turmas_2022[turmas_2022['periodo'] == '1']\n",
    "\n",
    "turmas_2022_1.head(2)"
   ]
  },
  {
   "cell_type": "code",
   "execution_count": 633,
   "metadata": {},
   "outputs": [
    {
     "data": {
      "text/plain": [
       "76.42857142857143"
      ]
     },
     "execution_count": 633,
     "metadata": {},
     "output_type": "execute_result"
    }
   ],
   "source": [
    "nota_media_aprovados_turmas_2022_1 = turmas_2022_1[turmas_2022_1['status'] == 'Aprovado']['nota'].mean()\n",
    "nota_media_aprovados_turmas_2022_1"
   ]
  },
  {
   "cell_type": "code",
   "execution_count": 634,
   "metadata": {},
   "outputs": [
    {
     "data": {
      "text/plain": [
       "19.77777777777778"
      ]
     },
     "execution_count": 634,
     "metadata": {},
     "output_type": "execute_result"
    }
   ],
   "source": [
    "nota_media_reprovados_por_nota_turmas_2022_1 = turmas_2022_1[turmas_2022_1['status'] == 'R-nota']['nota'].mean()\n",
    "nota_media_reprovados_por_nota_turmas_2022_1"
   ]
  },
  {
   "cell_type": "code",
   "execution_count": 635,
   "metadata": {},
   "outputs": [
    {
     "data": {
      "text/plain": [
       "95.5925925925926"
      ]
     },
     "execution_count": 635,
     "metadata": {},
     "output_type": "execute_result"
    }
   ],
   "source": [
    "frequencia_turmas_2022_1_reprovados_nota = turmas_2022_1[turmas_2022_1['status'] == 'R-nota']['frequencia'].mean()\n",
    "frequencia_turmas_2022_1_reprovados_nota"
   ]
  },
  {
   "cell_type": "code",
   "execution_count": 636,
   "metadata": {},
   "outputs": [
    {
     "data": {
      "text/plain": [
       "3.1578947368421053"
      ]
     },
     "execution_count": 636,
     "metadata": {},
     "output_type": "execute_result"
    }
   ],
   "source": [
    "porcentagem_evasoes_turmas_2022_1 = turmas_2022_1[turmas_2022_1['situacaoDiscente'] == 'Evasão']['situacaoDiscente'].count()/turmas_2022_1['situacaoDiscente'].count() * 100\n",
    "porcentagem_evasoes_turmas_2022_1"
   ]
  },
  {
   "attachments": {},
   "cell_type": "markdown",
   "metadata": {},
   "source": [
    "A volta às aulas híbrida teve a menor taxa de evasão da série histórica. A frequência dos reprovados por nota foi bastante alta, a maior da série histórica. A nota dos aprovados no período híbrido foi maior do que a média histórica, sendo menor apenas que a do período remoto."
   ]
  },
  {
   "attachments": {},
   "cell_type": "markdown",
   "metadata": {},
   "source": [
    "## 7. Compare a volta às aulas presencial (2022 período 2) com a volta híbrida do item anterior."
   ]
  },
  {
   "cell_type": "code",
   "execution_count": 637,
   "metadata": {},
   "outputs": [
    {
     "data": {
      "text/html": [
       "<div>\n",
       "<style scoped>\n",
       "    .dataframe tbody tr th:only-of-type {\n",
       "        vertical-align: middle;\n",
       "    }\n",
       "\n",
       "    .dataframe tbody tr th {\n",
       "        vertical-align: top;\n",
       "    }\n",
       "\n",
       "    .dataframe thead th {\n",
       "        text-align: right;\n",
       "    }\n",
       "</style>\n",
       "<table border=\"1\" class=\"dataframe\">\n",
       "  <thead>\n",
       "    <tr style=\"text-align: right;\">\n",
       "      <th></th>\n",
       "      <th>matricula</th>\n",
       "      <th>codigo</th>\n",
       "      <th>disciplina</th>\n",
       "      <th>periodo</th>\n",
       "      <th>ano</th>\n",
       "      <th>curriculo</th>\n",
       "      <th>ch</th>\n",
       "      <th>nota</th>\n",
       "      <th>frequencia</th>\n",
       "      <th>status</th>\n",
       "      <th>tipo</th>\n",
       "      <th>observacao</th>\n",
       "      <th>natureza</th>\n",
       "      <th>situacaoDiscente</th>\n",
       "      <th>nomeTuma</th>\n",
       "      <th>codigoCurriculoSie</th>\n",
       "    </tr>\n",
       "  </thead>\n",
       "  <tbody>\n",
       "    <tr>\n",
       "      <th>8</th>\n",
       "      <td>1</td>\n",
       "      <td>CI1055</td>\n",
       "      <td>ALGORITMOS E ESTRUTURAS DE DADOS 1</td>\n",
       "      <td>2</td>\n",
       "      <td>2022</td>\n",
       "      <td>Sim</td>\n",
       "      <td>60</td>\n",
       "      <td>0</td>\n",
       "      <td>0</td>\n",
       "      <td>Matriculado</td>\n",
       "      <td>TURMA</td>\n",
       "      <td>NaN</td>\n",
       "      <td>Obrigatória</td>\n",
       "      <td>Registro ativo</td>\n",
       "      <td>BCC1</td>\n",
       "      <td>21A</td>\n",
       "    </tr>\n",
       "    <tr>\n",
       "      <th>12</th>\n",
       "      <td>4</td>\n",
       "      <td>CI1055</td>\n",
       "      <td>ALGORITMOS E ESTRUTURAS DE DADOS 1</td>\n",
       "      <td>2</td>\n",
       "      <td>2022</td>\n",
       "      <td>Sim</td>\n",
       "      <td>60</td>\n",
       "      <td>0</td>\n",
       "      <td>0</td>\n",
       "      <td>Matriculado</td>\n",
       "      <td>TURMA</td>\n",
       "      <td>NaN</td>\n",
       "      <td>Obrigatória</td>\n",
       "      <td>Registro ativo</td>\n",
       "      <td>BCC1</td>\n",
       "      <td>21A</td>\n",
       "    </tr>\n",
       "  </tbody>\n",
       "</table>\n",
       "</div>"
      ],
      "text/plain": [
       "    matricula  codigo                          disciplina periodo   ano   \n",
       "8           1  CI1055  ALGORITMOS E ESTRUTURAS DE DADOS 1       2  2022  \\\n",
       "12          4  CI1055  ALGORITMOS E ESTRUTURAS DE DADOS 1       2  2022   \n",
       "\n",
       "   curriculo  ch  nota  frequencia       status   tipo observacao   \n",
       "8        Sim  60     0           0  Matriculado  TURMA        NaN  \\\n",
       "12       Sim  60     0           0  Matriculado  TURMA        NaN   \n",
       "\n",
       "       natureza situacaoDiscente nomeTuma codigoCurriculoSie  \n",
       "8   Obrigatória   Registro ativo     BCC1                21A  \n",
       "12  Obrigatória   Registro ativo     BCC1                21A  "
      ]
     },
     "execution_count": 637,
     "metadata": {},
     "output_type": "execute_result"
    }
   ],
   "source": [
    "turmas_2022_2 = turmas_2022[turmas_2022['periodo'] == '2']\n",
    "turmas_2022_2.head(2)"
   ]
  },
  {
   "cell_type": "code",
   "execution_count": 638,
   "metadata": {},
   "outputs": [
    {
     "data": {
      "text/plain": [
       "nota\n",
       "0    27\n",
       "Name: count, dtype: int64"
      ]
     },
     "execution_count": 638,
     "metadata": {},
     "output_type": "execute_result"
    }
   ],
   "source": [
    "turmas_2022_2['nota'].value_counts()"
   ]
  },
  {
   "cell_type": "code",
   "execution_count": 639,
   "metadata": {},
   "outputs": [
    {
     "data": {
      "text/plain": [
       "nan"
      ]
     },
     "execution_count": 639,
     "metadata": {},
     "output_type": "execute_result"
    }
   ],
   "source": [
    "nota_media_aprovados_turmas_2022_2 = turmas_2022_2[turmas_2022_2['status'] == 'Aprovado']['nota'].mean()\n",
    "nota_media_aprovados_turmas_2022_2"
   ]
  },
  {
   "cell_type": "code",
   "execution_count": 640,
   "metadata": {},
   "outputs": [
    {
     "data": {
      "text/plain": [
       "nan"
      ]
     },
     "execution_count": 640,
     "metadata": {},
     "output_type": "execute_result"
    }
   ],
   "source": [
    "nota_media_reprovados_por_nota_turmas_2022_2 = turmas_2022_2[turmas_2022_2['status'] == 'Aprovado']['nota'].mean()\n",
    "nota_media_reprovados_por_nota_turmas_2022_2"
   ]
  },
  {
   "attachments": {},
   "cell_type": "markdown",
   "metadata": {},
   "source": [
    "Os dados do período de volta às aulas presencial, segundo semestre de 2022 não está finalizado no banco de dados utilizado, o que impossibilita sua análise, bem como a comparação com o período anterior."
   ]
  }
 ],
 "metadata": {
  "kernelspec": {
   "display_name": "Python 3",
   "language": "python",
   "name": "python3"
  },
  "language_info": {
   "codemirror_mode": {
    "name": "ipython",
    "version": 3
   },
   "file_extension": ".py",
   "mimetype": "text/x-python",
   "name": "python",
   "nbconvert_exporter": "python",
   "pygments_lexer": "ipython3",
   "version": "3.10.6"
  },
  "orig_nbformat": 4
 },
 "nbformat": 4,
 "nbformat_minor": 2
}
